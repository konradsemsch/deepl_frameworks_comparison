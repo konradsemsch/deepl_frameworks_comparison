{
 "cells": [
  {
   "cell_type": "code",
   "execution_count": 9,
   "metadata": {},
   "outputs": [],
   "source": [
    "# Used this reference: https://www.kaggle.com/ngbolin/mnist-dataset-digit-recognizer\n",
    "\n",
    "import pandas as pd\n",
    "import numpy as np\n",
    "\n",
    "np.random.seed(42)"
   ]
  },
  {
   "cell_type": "code",
   "execution_count": 3,
   "metadata": {},
   "outputs": [],
   "source": [
    "df_train = pd.read_csv('data/mnist_train.csv')\n",
    "df_test = pd.read_csv('data/mnist_test.csv')"
   ]
  },
  {
   "cell_type": "code",
   "execution_count": 4,
   "metadata": {},
   "outputs": [
    {
     "name": "stdout",
     "output_type": "stream",
     "text": [
      "(60000, 784)\n",
      "(10000, 784)\n"
     ]
    }
   ],
   "source": [
    "df_train_x = df_train.iloc[:, 1:785]\n",
    "df_train_y = df_train.iloc[:, 0]\n",
    "\n",
    "df_test_x = df_test.iloc[:, 1:785]\n",
    "df_test_y = df_test.iloc[:, 0]\n",
    "\n",
    "print(df_train_x.shape)\n",
    "print(df_test_x.shape)"
   ]
  },
  {
   "cell_type": "code",
   "execution_count": 7,
   "metadata": {},
   "outputs": [
    {
     "name": "stderr",
     "output_type": "stream",
     "text": [
      "/Users/konrad/.local/share/virtualenvs/deepl_frameworks_comparison-kd2dnY1v/lib/python3.7/site-packages/ipykernel_launcher.py:1: FutureWarning: Method .as_matrix will be removed in a future version. Use .values instead.\n",
      "  \"\"\"Entry point for launching an IPython kernel.\n"
     ]
    }
   ],
   "source": [
    "mx_test = df_train_x.as_matrix().reshape(60000, 784)"
   ]
  },
  {
   "cell_type": "code",
   "execution_count": null,
   "metadata": {},
   "outputs": [],
   "source": [
    "X_train = X_train.as_matrix().reshape(33600, 784) #(33600, 784)\n",
    "X_cv = X_cv.as_matrix().reshape(8400, 784) #(8400, 784)\n",
    "\n",
    "X_test = X_test.as_matrix().reshape(28000, 784)"
   ]
  }
 ],
 "metadata": {
  "kernelspec": {
   "display_name": "deepl_frameworks_comparison",
   "language": "python",
   "name": "deepl_frameworks_comparison"
  },
  "language_info": {
   "codemirror_mode": {
    "name": "ipython",
    "version": 3
   },
   "file_extension": ".py",
   "mimetype": "text/x-python",
   "name": "python",
   "nbconvert_exporter": "python",
   "pygments_lexer": "ipython3",
   "version": "3.7.4"
  }
 },
 "nbformat": 4,
 "nbformat_minor": 4
}
